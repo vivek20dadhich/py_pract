{
 "cells": [
  {
   "cell_type": "markdown",
   "metadata": {},
   "source": [
    "### In Python there are two steps to object instantiation:"
   ]
  },
  {
   "cell_type": "markdown",
   "metadata": {},
   "source": [
    "The New Step - \n",
    "\n",
    "Before you can access an object, it must first be created. This is not the constructor. The New Step creates the object before it is passed to the constructor. This generally involves allocating space in memory and/or whatever language specific actions newing-up an object requires.\n",
    "\n",
    "The Constructor Step -\n",
    "\n",
    "Here, the newed-up object is passed to the constructor. In Python, this is when \\__init__ is called."
   ]
  },
  {
   "cell_type": "markdown",
   "metadata": {},
   "source": [
    "> Python allows us to override the creation step of any object via the \\__new__ magic method.\n",
    "\n",
    "> Simplicity is better than complexity so in general you shouldn't need to override \\__new__ unless you're subclassing an immutable type like str, int, unicode or tuple."
   ]
  },
  {
   "cell_type": "markdown",
   "metadata": {},
   "source": [
    "- Use \\__new__ when you need to control the creation of a new instance.\n",
    "\n",
    "- Use \\__init__ when you need to control initialization of a new instance.\n",
    "\n",
    "- \\__new__ is the first step of instance creation. It's called first, and is responsible for returning a new instance of your class.\n",
    "\n",
    "- In contrast, \\__init__ doesn't return anything; it's only responsible for initializing the instance after it's been created."
   ]
  },
  {
   "cell_type": "code",
   "execution_count": 14,
   "metadata": {},
   "outputs": [
    {
     "name": "stdout",
     "output_type": "stream",
     "text": [
      "<class 'str'>\n"
     ]
    }
   ],
   "source": [
    "class Example:\n",
    "    def __new__(self):\n",
    "        return 'studytonight';\n",
    "\n",
    "# creating object of the class Example\n",
    "mutantObj = Example()\n",
    "\n",
    "# but this will return that our object \n",
    "# is of type str\n",
    "print (type(mutantObj))"
   ]
  },
  {
   "cell_type": "code",
   "execution_count": 13,
   "metadata": {},
   "outputs": [
    {
     "name": "stdout",
     "output_type": "stream",
     "text": [
      "studytonight\n",
      "Initializing instance\n"
     ]
    },
    {
     "data": {
      "text/plain": [
       "<__main__.Example at 0x1e3ded7f550>"
      ]
     },
     "execution_count": 13,
     "metadata": {},
     "output_type": "execute_result"
    }
   ],
   "source": [
    "class Example:\n",
    "    \n",
    "    def __new__(self):\n",
    "        print('studytonight')\n",
    "        return super().__new__(self)\n",
    "    \n",
    "    def __init__(self):\n",
    "        print(\"Initializing instance\")\n",
    "\n",
    "Example()"
   ]
  },
  {
   "cell_type": "markdown",
   "metadata": {},
   "source": [
    "> The above example shows that \\__new__ method is called automatically when calling the class name, whereas \\__init__ method is called every time an instance of the class is returned by \\__new__ method, passing the returned instance to \\__init__ as the self parameter\n",
    "\n",
    "> This means that if the super is omitted in return of \\__new__ method the \\__init__ method will not be executed\n",
    "\n",
    "> If \\__new__ method return something else other than instance of class,  then instances \\__init__ method will not be invoked. In this case you have to call \\__init__ method yourself."
   ]
  },
  {
   "cell_type": "code",
   "execution_count": 19,
   "metadata": {},
   "outputs": [
    {
     "name": "stdout",
     "output_type": "stream",
     "text": [
      "studytonight\n",
      "Initializing instance\n"
     ]
    },
    {
     "data": {
      "text/plain": [
       "<__main__.Example at 0x1e3ded7f490>"
      ]
     },
     "execution_count": 19,
     "metadata": {},
     "output_type": "execute_result"
    }
   ],
   "source": [
    "class Example:\n",
    "    \n",
    "    def __init__(self):\n",
    "        print('studytonight')\n",
    "        print(\"Initializing instance\")\n",
    "        \n",
    "Example()"
   ]
  },
  {
   "cell_type": "code",
   "execution_count": null,
   "metadata": {},
   "outputs": [],
   "source": []
  }
 ],
 "metadata": {
  "kernelspec": {
   "display_name": "Python 3",
   "language": "python",
   "name": "python3"
  },
  "language_info": {
   "codemirror_mode": {
    "name": "ipython",
    "version": 3
   },
   "file_extension": ".py",
   "mimetype": "text/x-python",
   "name": "python",
   "nbconvert_exporter": "python",
   "pygments_lexer": "ipython3",
   "version": "3.8.5"
  }
 },
 "nbformat": 4,
 "nbformat_minor": 4
}
