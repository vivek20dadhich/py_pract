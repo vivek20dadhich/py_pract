{
 "cells": [
  {
   "cell_type": "markdown",
   "metadata": {},
   "source": [
    "### List Comprehension"
   ]
  },
  {
   "cell_type": "markdown",
   "metadata": {},
   "source": [
    "- List comprehension offers a shorter syntax when you want to create a new list based on the values of an existing list.\n",
    "- It consists of brackets containing an expression followed by a 'for' clause, then zero or more 'for' or 'if' clauses.\n",
    "- The Syntax\n",
    "> newlist = [expression for item in iterable if condition == True]\n",
    "- The iterable can be any iterable object, like a list, tuple, set etc\n",
    "- The expression is the current item in the iteration, but it is also the outcome, which you can manipulate before it ends up like a list item in the new list\n",
    "- The expression can also contain conditions, not like a filter, but as a way to manipulate the outcome"
   ]
  },
  {
   "cell_type": "markdown",
   "metadata": {},
   "source": [
    "#### Example"
   ]
  },
  {
   "cell_type": "code",
   "execution_count": 32,
   "metadata": {},
   "outputs": [
    {
     "name": "stdout",
     "output_type": "stream",
     "text": [
      "[4, 16, 36]\n"
     ]
    }
   ],
   "source": [
    "#Without list comprehension\n",
    "\n",
    "lst = [1, 2, 3, 4, 5, 6]\n",
    "newlist1 = []\n",
    "\n",
    "for i in lst:\n",
    "  if i%2 == 0:\n",
    "    newlist1.append(i**2)\n",
    "\n",
    "print(newlist1)"
   ]
  },
  {
   "cell_type": "code",
   "execution_count": 33,
   "metadata": {},
   "outputs": [
    {
     "name": "stdout",
     "output_type": "stream",
     "text": [
      "[4, 16, 36]\n"
     ]
    }
   ],
   "source": [
    "#With list comprehension\n",
    "\n",
    "newlist2 = [i**2 for i in lst if i%2==0]\n",
    "\n",
    "print(newlist2)"
   ]
  },
  {
   "cell_type": "markdown",
   "metadata": {},
   "source": [
    "#### Some more examples"
   ]
  },
  {
   "cell_type": "code",
   "execution_count": 36,
   "metadata": {},
   "outputs": [
    {
     "data": {
      "text/plain": [
       "[0, 1, 2, 3, 4, 5, 6, 7, 8, 9]"
      ]
     },
     "execution_count": 36,
     "metadata": {},
     "output_type": "execute_result"
    }
   ],
   "source": [
    "newlist3 = [i for i in range(10)]  #using range func to create an iterable\n",
    "\n",
    "newlist3"
   ]
  },
  {
   "cell_type": "code",
   "execution_count": 39,
   "metadata": {},
   "outputs": [
    {
     "data": {
      "text/plain": [
       "['queen', 'ROOK', 'BISHOP', 'KNIGHT', 'king', 'PAWN']"
      ]
     },
     "execution_count": 39,
     "metadata": {},
     "output_type": "execute_result"
    }
   ],
   "source": [
    "lst2 = ['QUEEN', 'rook', 'bishop', 'knight', 'KING', 'pawn']\n",
    "\n",
    "newlist4 = [x.swapcase() for x in lst2]  #manipulating expression before it ends up like a list item in the new list\n",
    "\n",
    "newlist4"
   ]
  },
  {
   "cell_type": "code",
   "execution_count": null,
   "metadata": {},
   "outputs": [],
   "source": []
  }
 ],
 "metadata": {
  "kernelspec": {
   "display_name": "Python 3",
   "language": "python",
   "name": "python3"
  },
  "language_info": {
   "codemirror_mode": {
    "name": "ipython",
    "version": 3
   },
   "file_extension": ".py",
   "mimetype": "text/x-python",
   "name": "python",
   "nbconvert_exporter": "python",
   "pygments_lexer": "ipython3",
   "version": "3.8.5"
  }
 },
 "nbformat": 4,
 "nbformat_minor": 4
}
